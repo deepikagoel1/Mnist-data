{
 "cells": [
  {
   "cell_type": "code",
   "execution_count": 28,
   "metadata": {},
   "outputs": [],
   "source": [
    "from sklearn.datasets import load_digits\n",
    "from sklearn.model_selection import train_test_split\n",
    "from sklearn import metrics\n",
    "import numpy as np\n",
    "import matplotlib.pyplot as plt\n",
    "import seaborn as sns\n",
    "from sklearn.metrics import confusion_matrix,accuracy_score, classification_report\n",
    "from scipy.stats import multivariate_normal\n",
    "import pandas as pd\n",
    "from sklearn.naive_bayes import GaussianNB"
   ]
  },
  {
   "cell_type": "code",
   "execution_count": 29,
   "metadata": {},
   "outputs": [],
   "source": [
    "d = load_digits()  #loading the pre-defined dataset.\n"
   ]
  },
  {
   "cell_type": "code",
   "execution_count": 30,
   "metadata": {},
   "outputs": [],
   "source": [
    "# Splitting the dataset into the Training set and Test set\n",
    "x_train, x_test, y_train, y_test = train_test_split(d.data, d.target, test_size = 0.3, random_state=0)\n",
    "# Splitting the Train set further into development and train set\n",
    "x_train, x_dev, y_train, y_dev = train_test_split(x_c1_train, y_c1_train, test_size = 0.2, random_state=0)"
   ]
  },
  {
   "cell_type": "code",
   "execution_count": 31,
   "metadata": {},
   "outputs": [
    {
     "data": {
      "text/plain": [
       "88.18407960199005"
      ]
     },
     "execution_count": 31,
     "metadata": {},
     "output_type": "execute_result"
    }
   ],
   "source": [
    "gnb = GaussianNB() \n",
    "gnb.fit(x_train, y_train)\n",
    "gnb.score(x_train, y_train)*100"
   ]
  },
  {
   "cell_type": "code",
   "execution_count": 32,
   "metadata": {},
   "outputs": [
    {
     "data": {
      "text/plain": [
       "83.7037037037037"
      ]
     },
     "execution_count": 32,
     "metadata": {},
     "output_type": "execute_result"
    }
   ],
   "source": [
    "y_pred = gnb.predict(x_test)\n",
    "gnb.score(x_test, y_test)*100"
   ]
  },
  {
   "cell_type": "code",
   "execution_count": 33,
   "metadata": {},
   "outputs": [
    {
     "data": {
      "text/plain": [
       "83.08457711442786"
      ]
     },
     "execution_count": 33,
     "metadata": {},
     "output_type": "execute_result"
    }
   ],
   "source": [
    "y_pred2 = gnb.predict(x_dev)\n",
    "gnb.score(x_dev, y_dev)*100"
   ]
  },
  {
   "cell_type": "code",
   "execution_count": 34,
   "metadata": {},
   "outputs": [
    {
     "data": {
      "text/plain": [
       "83.7037037037037"
      ]
     },
     "execution_count": 34,
     "metadata": {},
     "output_type": "execute_result"
    }
   ],
   "source": [
    "accuracy_score(y_test, y_pred)*100"
   ]
  },
  {
   "cell_type": "code",
   "execution_count": 35,
   "metadata": {},
   "outputs": [
    {
     "data": {
      "text/plain": [
       "83.08457711442786"
      ]
     },
     "execution_count": 35,
     "metadata": {},
     "output_type": "execute_result"
    }
   ],
   "source": [
    "accuracy_score(y_dev, y_pred2)*100"
   ]
  },
  {
   "cell_type": "code",
   "execution_count": 36,
   "metadata": {},
   "outputs": [
    {
     "data": {
      "text/plain": [
       "array([[45,  0,  0,  0,  0,  0,  0,  0,  0,  0],\n",
       "       [ 0, 46,  0,  0,  0,  0,  0,  0,  6,  0],\n",
       "       [ 0, 10, 28,  2,  0,  0,  0,  0, 13,  0],\n",
       "       [ 0,  0,  0, 47,  0,  0,  0,  2,  4,  1],\n",
       "       [ 0,  1,  0,  0, 43,  0,  0,  4,  0,  0],\n",
       "       [ 0,  0,  0,  2,  0, 51,  1,  2,  1,  0],\n",
       "       [ 0,  0,  0,  0,  0,  0, 60,  0,  0,  0],\n",
       "       [ 0,  0,  0,  0,  1,  0,  0, 52,  0,  0],\n",
       "       [ 0,  4,  2,  3,  0,  3,  0,  2, 47,  0],\n",
       "       [ 0,  2,  0, 14,  0,  1,  0,  3,  4, 33]])"
      ]
     },
     "execution_count": 36,
     "metadata": {},
     "output_type": "execute_result"
    }
   ],
   "source": [
    "confusion_matrix(y_test, y_pred)"
   ]
  },
  {
   "cell_type": "code",
   "execution_count": 37,
   "metadata": {},
   "outputs": [
    {
     "data": {
      "text/plain": [
       "array([[19,  0,  0,  0,  0,  0,  0,  1,  0,  0],\n",
       "       [ 0, 25,  1,  0,  0,  0,  0,  0,  0,  0],\n",
       "       [ 0,  1, 17,  1,  0,  0,  0,  0,  3,  0],\n",
       "       [ 0,  1,  0, 18,  0,  0,  0,  0,  0,  0],\n",
       "       [ 0,  0,  0,  0, 14,  0,  0,  2,  1,  0],\n",
       "       [ 0,  0,  0,  0,  0, 12,  0,  1,  0,  0],\n",
       "       [ 0,  1,  0,  0,  1,  0, 19,  0,  0,  0],\n",
       "       [ 0,  0,  0,  0,  0,  0,  0, 20,  0,  1],\n",
       "       [ 0,  2,  0,  2,  0,  0,  0,  0, 14,  1],\n",
       "       [ 0,  3,  0,  7,  0,  1,  0,  2,  1,  9]])"
      ]
     },
     "execution_count": 37,
     "metadata": {},
     "output_type": "execute_result"
    }
   ],
   "source": [
    "confusion_matrix(y_dev, y_pred2)"
   ]
  },
  {
   "cell_type": "code",
   "execution_count": 38,
   "metadata": {},
   "outputs": [
    {
     "name": "stdout",
     "output_type": "stream",
     "text": [
      "              precision    recall  f1-score   support\n",
      "\n",
      "           0       1.00      1.00      1.00        45\n",
      "           1       0.73      0.88      0.80        52\n",
      "           2       0.93      0.53      0.67        53\n",
      "           3       0.69      0.87      0.77        54\n",
      "           4       0.98      0.90      0.93        48\n",
      "           5       0.93      0.89      0.91        57\n",
      "           6       0.98      1.00      0.99        60\n",
      "           7       0.80      0.98      0.88        53\n",
      "           8       0.63      0.77      0.69        61\n",
      "           9       0.97      0.58      0.73        57\n",
      "\n",
      "    accuracy                           0.84       540\n",
      "   macro avg       0.86      0.84      0.84       540\n",
      "weighted avg       0.86      0.84      0.83       540\n",
      "\n"
     ]
    }
   ],
   "source": [
    "print(classification_report(y_test, y_pred))"
   ]
  },
  {
   "cell_type": "code",
   "execution_count": 39,
   "metadata": {},
   "outputs": [
    {
     "name": "stdout",
     "output_type": "stream",
     "text": [
      "              precision    recall  f1-score   support\n",
      "\n",
      "           0       1.00      0.95      0.97        20\n",
      "           1       0.76      0.96      0.85        26\n",
      "           2       0.94      0.77      0.85        22\n",
      "           3       0.64      0.95      0.77        19\n",
      "           4       0.93      0.82      0.87        17\n",
      "           5       0.92      0.92      0.92        13\n",
      "           6       1.00      0.90      0.95        21\n",
      "           7       0.77      0.95      0.85        21\n",
      "           8       0.74      0.74      0.74        19\n",
      "           9       0.82      0.39      0.53        23\n",
      "\n",
      "    accuracy                           0.83       201\n",
      "   macro avg       0.85      0.84      0.83       201\n",
      "weighted avg       0.85      0.83      0.82       201\n",
      "\n"
     ]
    }
   ],
   "source": [
    "print(classification_report(y_dev, y_pred2))"
   ]
  },
  {
   "cell_type": "code",
   "execution_count": null,
   "metadata": {},
   "outputs": [],
   "source": []
  }
 ],
 "metadata": {
  "kernelspec": {
   "display_name": "Python 3",
   "language": "python",
   "name": "python3"
  },
  "language_info": {
   "codemirror_mode": {
    "name": "ipython",
    "version": 3
   },
   "file_extension": ".py",
   "mimetype": "text/x-python",
   "name": "python",
   "nbconvert_exporter": "python",
   "pygments_lexer": "ipython3",
   "version": "3.8.5"
  }
 },
 "nbformat": 4,
 "nbformat_minor": 4
}
