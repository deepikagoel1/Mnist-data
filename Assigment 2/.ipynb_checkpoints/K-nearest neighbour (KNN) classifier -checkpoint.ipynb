{
 "cells": [
  {
   "cell_type": "code",
   "execution_count": 1,
   "metadata": {},
   "outputs": [],
   "source": [
    "#import requisite libraries\n",
    "import numpy as np\n",
    "import matplotlib.pyplot as plt\n",
    "import pandas as pd\n",
    "from sklearn.metrics import confusion_matrix,accuracy_score\n",
    "from sklearn.neighbors import KNeighborsClassifier\n",
    "from sklearn.model_selection import train_test_split\n",
    "from matplotlib.colors import ListedColormap\n",
    "from sklearn import metrics\n",
    "from sklearn import datasets\n",
    "import sklearn"
   ]
  },
  {
   "cell_type": "code",
   "execution_count": 2,
   "metadata": {},
   "outputs": [],
   "source": [
    "digits = datasets.load_digits(n_class=10) # Load the MNIST data\n",
    "x_img_data = digits.data # Images\n",
    "y_img_labl = digits.target  # Corresponding labels"
   ]
  },
  {
   "cell_type": "code",
   "execution_count": 3,
   "metadata": {},
   "outputs": [],
   "source": [
    "# Splitting the dataset into the Training set and Test set\n",
    "X_train, X_test, y_train, y_test = train_test_split(x_img_data, y_img_labl, test_size = 0.3, random_state = 0)\n",
    "\n",
    "# Splitting the Train set further into development and train set\n",
    "X_train, X_dev, y_train, y_dev = train_test_split(X_train, y_train, test_size = 0.2, random_state = 0)\n"
   ]
  },
  {
   "cell_type": "code",
   "execution_count": 4,
   "metadata": {},
   "outputs": [
    {
     "name": "stdout",
     "output_type": "stream",
     "text": [
      "k=1, accuracy=98.02%\n",
      "k=3, accuracy=97.62%\n",
      "k=5, accuracy=98.81%\n",
      "k=7, accuracy=98.41%\n",
      "k=9, accuracy=97.62%\n",
      "\n",
      "###########   k=5 achieved highest accuracy of 98.81% on validation data\n",
      "The accuracy(%) on the test data using best K = 97.96296296296296\n",
      "Accuracy = 97.03703703703704\n",
      "[[45  0  0  0  0  0  0  0  0  0]\n",
      " [ 0 52  0  0  0  0  0  0  0  0]\n",
      " [ 1  1 50  0  0  0  0  1  0  0]\n",
      " [ 0  0  0 53  0  0  0  0  1  0]\n",
      " [ 0  0  0  0 47  0  0  1  0  0]\n",
      " [ 0  0  0  0  0 54  1  0  0  2]\n",
      " [ 0  0  0  0  0  0 60  0  0  0]\n",
      " [ 0  0  0  0  0  0  0 53  0  0]\n",
      " [ 0  2  0  3  0  0  0  1 55  0]\n",
      " [ 0  0  0  1  0  1  0  0  0 55]]\n"
     ]
    }
   ],
   "source": [
    "accuracies = [] # Store accuracies for each K, later we will see which K gives maximum accuracy.\n",
    "\n",
    "# loop over various values of `k` for the k-Nearest Neighbor classifier\n",
    "kVals = range(1, 10, 2)  # Storing the values of K used\n",
    "model = {}  # Set of models\n",
    "\n",
    "for k in range(1, 10, 2):\n",
    "    # train the k-Nearest Neighbor classifier with the current value of `k`\n",
    "    model[k] = KNeighborsClassifier(n_neighbors=k)\n",
    "    model[k].fit(X_train, y_train.ravel())\n",
    "\n",
    "    # evaluate the model and update the accuracies list\n",
    "    score = model[k].score(X_dev,y_dev)\n",
    "    print(\"k=%d, accuracy=%.2f%%\" % (k, score * 100))\n",
    "    accuracies.append(score)\n",
    "\n",
    "\n",
    "# find the value of k that has the largest accuracy\n",
    "bestK = int(np.argmax(accuracies))\n",
    "print(\"\\n###########   k=%d achieved highest accuracy of %.2f%% on validation data\" % (kVals[bestK],accuracies[bestK] * 100))\n",
    "\n",
    "\n",
    "# evaluate the model on test data\n",
    "K=kVals[bestK]  # Get the value of best K\n",
    "score = model[K].score(X_test, y_test)\n",
    "print(\"The accuracy(%) on the test data using best K =\",score*100)\n",
    "\n",
    "\n",
    "#predicting the value using K-NN for test data and finding the accuracy\n",
    "Z = model[k].predict(X_test)\n",
    "print(\"Accuracy =\",sklearn.metrics.accuracy_score(y_test, Z)*100)\n",
    "\n",
    "\n",
    "# To display the Confusion matrix\n",
    "print(confusion_matrix(y_test, Z)) "
   ]
  },
  {
   "cell_type": "code",
   "execution_count": null,
   "metadata": {},
   "outputs": [],
   "source": []
  },
  {
   "cell_type": "code",
   "execution_count": null,
   "metadata": {},
   "outputs": [],
   "source": [
    " "
   ]
  },
  {
   "cell_type": "code",
   "execution_count": null,
   "metadata": {},
   "outputs": [],
   "source": []
  }
 ],
 "metadata": {
  "kernelspec": {
   "display_name": "Python 3",
   "language": "python",
   "name": "python3"
  },
  "language_info": {
   "codemirror_mode": {
    "name": "ipython",
    "version": 3
   },
   "file_extension": ".py",
   "mimetype": "text/x-python",
   "name": "python",
   "nbconvert_exporter": "python",
   "pygments_lexer": "ipython3",
   "version": "3.8.5"
  }
 },
 "nbformat": 4,
 "nbformat_minor": 4
}
