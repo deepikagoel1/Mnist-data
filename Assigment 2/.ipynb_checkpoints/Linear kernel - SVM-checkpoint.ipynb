{
 "cells": [
  {
   "cell_type": "code",
   "execution_count": 1,
   "metadata": {},
   "outputs": [],
   "source": [
    "#import requisite libraries\n",
    "import numpy as np\n",
    "import matplotlib.pyplot as plt\n",
    "import pandas as pd\n",
    "from sklearn.svm import SVC\n",
    "from sklearn.metrics import confusion_matrix,accuracy_score\n",
    "from sklearn.neighbors import KNeighborsClassifier\n",
    "from sklearn.model_selection import train_test_split\n",
    "from matplotlib.colors import ListedColormap\n",
    "from sklearn import metrics\n",
    "from sklearn import datasets\n",
    "import sklearn"
   ]
  },
  {
   "cell_type": "code",
   "execution_count": 2,
   "metadata": {},
   "outputs": [],
   "source": [
    "digits = datasets.load_digits(n_class=10) # Load the MNIST data\n",
    "x_img_data = digits.data # Images\n",
    "y_img_labl = digits.target  # Corresponding labels"
   ]
  },
  {
   "cell_type": "code",
   "execution_count": 3,
   "metadata": {},
   "outputs": [],
   "source": [
    "# Splitting the dataset into the Training set and Test set\n",
    "X_train, X_test, y_train, y_test = train_test_split(x_img_data, y_img_labl, test_size = 0.3, random_state = 0)\n",
    "\n",
    "# Splitting the Train set further into development and train set\n",
    "X_train, X_dev, y_train, y_dev = train_test_split(X_train, y_train, test_size = 0.2, random_state = 0)"
   ]
  },
  {
   "cell_type": "code",
   "execution_count": 4,
   "metadata": {},
   "outputs": [
    {
     "name": "stdout",
     "output_type": "stream",
     "text": [
      "C=1, accuracy=98.02%\n",
      "C=2, accuracy=98.02%\n",
      "C=3, accuracy=98.02%\n",
      "C=4, accuracy=98.02%\n",
      "C=5, accuracy=98.02%\n",
      "C=6, accuracy=98.02%\n",
      "C=7, accuracy=98.02%\n",
      "C=8, accuracy=98.02%\n",
      "C=9, accuracy=98.02%\n",
      "\n",
      "###########   best C=1 achieved highest accuracy of 98.02% on validation data\n",
      "The accuracy(%) on the test data using best C = 97.4074074074074\n",
      "Accuracy = 97.4074074074074\n",
      "[[45  0  0  0  0  0  0  0  0  0]\n",
      " [ 0 51  0  0  0  1  0  0  0  0]\n",
      " [ 0  1 52  0  0  0  0  0  0  0]\n",
      " [ 0  0  0 53  0  0  0  0  1  0]\n",
      " [ 0  0  0  0 48  0  0  0  0  0]\n",
      " [ 0  0  0  0  0 56  0  0  0  1]\n",
      " [ 0  1  0  0  0  0 59  0  0  0]\n",
      " [ 0  0  0  0  1  0  0 52  0  0]\n",
      " [ 0  1  1  1  0  0  0  0 57  1]\n",
      " [ 0  1  0  1  0  1  0  0  1 53]]\n",
      "[25 35 30 29 32 33 20 31 42 48]\n"
     ]
    }
   ],
   "source": [
    "#Train the SVM(Linear Kernel) \n",
    "accuracies = []\n",
    "Cval = range(1,10,1)\n",
    "model = {}  # Set of models\n",
    "for c in range(1, 10, 1):\n",
    "    model[c] = SVC(C=c,kernel='linear')\n",
    "    model[c].fit(X_train, y_train.ravel())\n",
    "    \n",
    "    # evaluate the model and update the accuracies list\n",
    "    score = model[c].score(X_dev,y_dev)\n",
    "    print(\"C=%d, accuracy=%.2f%%\" % (c, score * 100))\n",
    "    accuracies.append(score)\n",
    "\n",
    "# find the value of C that has the largest accuracy    \n",
    "bestC = int(np.argmax(accuracies))\n",
    "print(\"\\n###########   best C=%d achieved highest accuracy of %.2f%% on validation data\" % (Cval[bestC],accuracies[bestC] * 100))\n",
    "\n",
    "\n",
    "# evaluate the model on test data\n",
    "C=Cval[bestC]  # Get the value of best C\n",
    "score = model[C].score(X_test, y_test)\n",
    "print(\"The accuracy(%) on the test data using best C =\",score*100)\n",
    "\n",
    "\n",
    "#predicting the value using Linear kernal for test data and finding the accuracy\n",
    "Z = model[c].predict(X_test)\n",
    "print(\"Accuracy =\",sklearn.metrics.accuracy_score(y_test, Z)*100)\n",
    "\n",
    "\n",
    "# confusion_matrix\n",
    "CM=confusion_matrix(y_test, Z) \n",
    "print(CM)\n",
    "\n",
    "\n",
    "# get number of support vectors for each class\n",
    "print(model[c].n_support_)  "
   ]
  },
  {
   "cell_type": "code",
   "execution_count": null,
   "metadata": {},
   "outputs": [],
   "source": []
  }
 ],
 "metadata": {
  "kernelspec": {
   "display_name": "Python 3",
   "language": "python",
   "name": "python3"
  },
  "language_info": {
   "codemirror_mode": {
    "name": "ipython",
    "version": 3
   },
   "file_extension": ".py",
   "mimetype": "text/x-python",
   "name": "python",
   "nbconvert_exporter": "python",
   "pygments_lexer": "ipython3",
   "version": "3.8.5"
  }
 },
 "nbformat": 4,
 "nbformat_minor": 4
}
