{
 "cells": [
  {
   "cell_type": "code",
   "execution_count": 1,
   "metadata": {},
   "outputs": [],
   "source": [
    "#import requisite libraries\n",
    "import numpy as np\n",
    "import matplotlib.pyplot as plt\n",
    "import pandas as pd\n",
    "from sklearn.metrics import confusion_matrix,accuracy_score\n",
    "from sklearn.model_selection import train_test_split\n",
    "from matplotlib.colors import ListedColormap\n",
    "from sklearn import metrics\n",
    "from scipy.stats import multivariate_normal\n",
    "import sklearn\n",
    "from sklearn import datasets"
   ]
  },
  {
   "cell_type": "code",
   "execution_count": 2,
   "metadata": {
    "scrolled": true
   },
   "outputs": [],
   "source": [
    "digits = datasets.load_digits(n_class=10,as_frame=True) # Load the MNIST data\n",
    "DS=digits.frame"
   ]
  },
  {
   "cell_type": "code",
   "execution_count": 3,
   "metadata": {},
   "outputs": [],
   "source": [
    "# Splitting the dataset into the Training set and Test set\n",
    "x_train, x_test = train_test_split(DS, test_size = 0.3, random_state = 0,stratify=DS[['target']])\n"
   ]
  },
  {
   "cell_type": "code",
   "execution_count": 4,
   "metadata": {},
   "outputs": [],
   "source": [
    "#calculating mean, covariance and prior for all class\n",
    "mean_lst = []\n",
    "cov_lst = []\n",
    "prior_lst = []\n",
    "for i in range(10):\n",
    "    x=x_train[x_train['target']==i]\n",
    "    cov_0 = x.cov()\n",
    "    cov_0 = np.array(cov_0.values)[:64,:64]\n",
    "    x = x.to_numpy()\n",
    "    mean = np.mean(x,axis=0)[:64]\n",
    "    mean_lst.append(mean)\n",
    "    cov_lst.append(cov_0)\n",
    "    prior_lst.append(len(x)/len(x_train))"
   ]
  },
  {
   "cell_type": "code",
   "execution_count": 5,
   "metadata": {},
   "outputs": [
    {
     "name": "stdout",
     "output_type": "stream",
     "text": [
      "Accuracy = 94.25925925925925\n",
      "[[54  0  0  0  0  0  0  0  0  0]\n",
      " [ 0 49  0  0  0  1  0  0  5  0]\n",
      " [ 0  1 47  0  0  0  0  0  5  0]\n",
      " [ 0  0  0 50  0  0  0  0  1  4]\n",
      " [ 1  0  0  0 48  0  0  2  2  1]\n",
      " [ 0  0  0  2  0 52  0  0  1  0]\n",
      " [ 0  0  0  0  0  1 53  0  0  0]\n",
      " [ 0  0  0  0  1  0  0 52  0  1]\n",
      " [ 0  0  0  1  0  0  0  0 51  0]\n",
      " [ 0  0  0  0  0  0  0  0  1 53]]\n"
     ]
    }
   ],
   "source": [
    "#predicting the value using Bayes classifier for test data and finding the accuracy \n",
    "y_pred_bayes = []\n",
    "X_test = x_test.to_numpy()\n",
    "for i in range(len(X_test)):\n",
    "    Y = []\n",
    "    for j in range(10):\n",
    "        y = prior_lst[j]*(multivariate_normal.pdf(X_test[i,:64] , mean_lst[j] , cov_lst[j] , allow_singular=True))\n",
    "        Y.append(y)\n",
    "    y_pred_bayes.append(np.argmax(np.array(Y)))\n",
    "\n",
    "\n",
    "print(\"Accuracy =\",sklearn.metrics.accuracy_score(X_test[:,64], y_pred_bayes)*100)\n",
    "\n",
    "# To display the Confusion matrix\n",
    "print(confusion_matrix(X_test[:,64], y_pred_bayes))   "
   ]
  },
  {
   "cell_type": "code",
   "execution_count": null,
   "metadata": {},
   "outputs": [],
   "source": []
  }
 ],
 "metadata": {
  "kernelspec": {
   "display_name": "Python 3",
   "language": "python",
   "name": "python3"
  },
  "language_info": {
   "codemirror_mode": {
    "name": "ipython",
    "version": 3
   },
   "file_extension": ".py",
   "mimetype": "text/x-python",
   "name": "python",
   "nbconvert_exporter": "python",
   "pygments_lexer": "ipython3",
   "version": "3.8.5"
  }
 },
 "nbformat": 4,
 "nbformat_minor": 4
}
