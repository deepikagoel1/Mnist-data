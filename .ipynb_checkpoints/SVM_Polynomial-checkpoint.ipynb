{
 "cells": [
  {
   "cell_type": "code",
   "execution_count": 8,
   "metadata": {},
   "outputs": [],
   "source": [
    "from sklearn.datasets import load_digits\n",
    "from sklearn.model_selection import train_test_split\n",
    "from sklearn import metrics\n",
    "import numpy as np\n",
    "import matplotlib.pyplot as plt\n",
    "import seaborn as sns\n",
    "from sklearn.metrics import confusion_matrix,accuracy_score\n",
    "from sklearn.svm import SVC"
   ]
  },
  {
   "cell_type": "code",
   "execution_count": 9,
   "metadata": {},
   "outputs": [
    {
     "name": "stdout",
     "output_type": "stream",
     "text": [
      "{'data': array([[ 0.,  0.,  5., ...,  0.,  0.,  0.],\n",
      "       [ 0.,  0.,  0., ..., 10.,  0.,  0.],\n",
      "       [ 0.,  0.,  0., ..., 16.,  9.,  0.],\n",
      "       ...,\n",
      "       [ 0.,  0.,  1., ...,  6.,  0.,  0.],\n",
      "       [ 0.,  0.,  2., ..., 12.,  0.,  0.],\n",
      "       [ 0.,  0., 10., ..., 12.,  1.,  0.]]), 'target': array([0, 1, 2, ..., 8, 9, 8]), 'frame': None, 'feature_names': ['pixel_0_0', 'pixel_0_1', 'pixel_0_2', 'pixel_0_3', 'pixel_0_4', 'pixel_0_5', 'pixel_0_6', 'pixel_0_7', 'pixel_1_0', 'pixel_1_1', 'pixel_1_2', 'pixel_1_3', 'pixel_1_4', 'pixel_1_5', 'pixel_1_6', 'pixel_1_7', 'pixel_2_0', 'pixel_2_1', 'pixel_2_2', 'pixel_2_3', 'pixel_2_4', 'pixel_2_5', 'pixel_2_6', 'pixel_2_7', 'pixel_3_0', 'pixel_3_1', 'pixel_3_2', 'pixel_3_3', 'pixel_3_4', 'pixel_3_5', 'pixel_3_6', 'pixel_3_7', 'pixel_4_0', 'pixel_4_1', 'pixel_4_2', 'pixel_4_3', 'pixel_4_4', 'pixel_4_5', 'pixel_4_6', 'pixel_4_7', 'pixel_5_0', 'pixel_5_1', 'pixel_5_2', 'pixel_5_3', 'pixel_5_4', 'pixel_5_5', 'pixel_5_6', 'pixel_5_7', 'pixel_6_0', 'pixel_6_1', 'pixel_6_2', 'pixel_6_3', 'pixel_6_4', 'pixel_6_5', 'pixel_6_6', 'pixel_6_7', 'pixel_7_0', 'pixel_7_1', 'pixel_7_2', 'pixel_7_3', 'pixel_7_4', 'pixel_7_5', 'pixel_7_6', 'pixel_7_7'], 'target_names': array([0, 1, 2, 3, 4, 5, 6, 7, 8, 9]), 'images': array([[[ 0.,  0.,  5., ...,  1.,  0.,  0.],\n",
      "        [ 0.,  0., 13., ..., 15.,  5.,  0.],\n",
      "        [ 0.,  3., 15., ..., 11.,  8.,  0.],\n",
      "        ...,\n",
      "        [ 0.,  4., 11., ..., 12.,  7.,  0.],\n",
      "        [ 0.,  2., 14., ..., 12.,  0.,  0.],\n",
      "        [ 0.,  0.,  6., ...,  0.,  0.,  0.]],\n",
      "\n",
      "       [[ 0.,  0.,  0., ...,  5.,  0.,  0.],\n",
      "        [ 0.,  0.,  0., ...,  9.,  0.,  0.],\n",
      "        [ 0.,  0.,  3., ...,  6.,  0.,  0.],\n",
      "        ...,\n",
      "        [ 0.,  0.,  1., ...,  6.,  0.,  0.],\n",
      "        [ 0.,  0.,  1., ...,  6.,  0.,  0.],\n",
      "        [ 0.,  0.,  0., ..., 10.,  0.,  0.]],\n",
      "\n",
      "       [[ 0.,  0.,  0., ..., 12.,  0.,  0.],\n",
      "        [ 0.,  0.,  3., ..., 14.,  0.,  0.],\n",
      "        [ 0.,  0.,  8., ..., 16.,  0.,  0.],\n",
      "        ...,\n",
      "        [ 0.,  9., 16., ...,  0.,  0.,  0.],\n",
      "        [ 0.,  3., 13., ..., 11.,  5.,  0.],\n",
      "        [ 0.,  0.,  0., ..., 16.,  9.,  0.]],\n",
      "\n",
      "       ...,\n",
      "\n",
      "       [[ 0.,  0.,  1., ...,  1.,  0.,  0.],\n",
      "        [ 0.,  0., 13., ...,  2.,  1.,  0.],\n",
      "        [ 0.,  0., 16., ..., 16.,  5.,  0.],\n",
      "        ...,\n",
      "        [ 0.,  0., 16., ..., 15.,  0.,  0.],\n",
      "        [ 0.,  0., 15., ..., 16.,  0.,  0.],\n",
      "        [ 0.,  0.,  2., ...,  6.,  0.,  0.]],\n",
      "\n",
      "       [[ 0.,  0.,  2., ...,  0.,  0.,  0.],\n",
      "        [ 0.,  0., 14., ..., 15.,  1.,  0.],\n",
      "        [ 0.,  4., 16., ..., 16.,  7.,  0.],\n",
      "        ...,\n",
      "        [ 0.,  0.,  0., ..., 16.,  2.,  0.],\n",
      "        [ 0.,  0.,  4., ..., 16.,  2.,  0.],\n",
      "        [ 0.,  0.,  5., ..., 12.,  0.,  0.]],\n",
      "\n",
      "       [[ 0.,  0., 10., ...,  1.,  0.,  0.],\n",
      "        [ 0.,  2., 16., ...,  1.,  0.,  0.],\n",
      "        [ 0.,  0., 15., ..., 15.,  0.,  0.],\n",
      "        ...,\n",
      "        [ 0.,  4., 16., ..., 16.,  6.,  0.],\n",
      "        [ 0.,  8., 16., ..., 16.,  8.,  0.],\n",
      "        [ 0.,  1.,  8., ..., 12.,  1.,  0.]]]), 'DESCR': \".. _digits_dataset:\\n\\nOptical recognition of handwritten digits dataset\\n--------------------------------------------------\\n\\n**Data Set Characteristics:**\\n\\n    :Number of Instances: 5620\\n    :Number of Attributes: 64\\n    :Attribute Information: 8x8 image of integer pixels in the range 0..16.\\n    :Missing Attribute Values: None\\n    :Creator: E. Alpaydin (alpaydin '@' boun.edu.tr)\\n    :Date: July; 1998\\n\\nThis is a copy of the test set of the UCI ML hand-written digits datasets\\nhttps://archive.ics.uci.edu/ml/datasets/Optical+Recognition+of+Handwritten+Digits\\n\\nThe data set contains images of hand-written digits: 10 classes where\\neach class refers to a digit.\\n\\nPreprocessing programs made available by NIST were used to extract\\nnormalized bitmaps of handwritten digits from a preprinted form. From a\\ntotal of 43 people, 30 contributed to the training set and different 13\\nto the test set. 32x32 bitmaps are divided into nonoverlapping blocks of\\n4x4 and the number of on pixels are counted in each block. This generates\\nan input matrix of 8x8 where each element is an integer in the range\\n0..16. This reduces dimensionality and gives invariance to small\\ndistortions.\\n\\nFor info on NIST preprocessing routines, see M. D. Garris, J. L. Blue, G.\\nT. Candela, D. L. Dimmick, J. Geist, P. J. Grother, S. A. Janet, and C.\\nL. Wilson, NIST Form-Based Handprint Recognition System, NISTIR 5469,\\n1994.\\n\\n.. topic:: References\\n\\n  - C. Kaynak (1995) Methods of Combining Multiple Classifiers and Their\\n    Applications to Handwritten Digit Recognition, MSc Thesis, Institute of\\n    Graduate Studies in Science and Engineering, Bogazici University.\\n  - E. Alpaydin, C. Kaynak (1998) Cascading Classifiers, Kybernetika.\\n  - Ken Tang and Ponnuthurai N. Suganthan and Xi Yao and A. Kai Qin.\\n    Linear dimensionalityreduction using relevance weighted LDA. School of\\n    Electrical and Electronic Engineering Nanyang Technological University.\\n    2005.\\n  - Claudio Gentile. A New Approximate Maximal Margin Classification\\n    Algorithm. NIPS. 2000.\"}\n"
     ]
    }
   ],
   "source": [
    "d = load_digits()  #loading the pre-defined dataset.\n",
    "#print(d.data.shape)\n",
    "#print(d.target.shape)\n",
    "#print(d.data[0])\n",
    "print(d)"
   ]
  },
  {
   "cell_type": "code",
   "execution_count": 10,
   "metadata": {},
   "outputs": [
    {
     "name": "stdout",
     "output_type": "stream",
     "text": [
      "(1797, 64)\n"
     ]
    }
   ],
   "source": [
    "print(d.data.shape)"
   ]
  },
  {
   "cell_type": "code",
   "execution_count": 11,
   "metadata": {},
   "outputs": [
    {
     "name": "stdout",
     "output_type": "stream",
     "text": [
      "(1797,)\n"
     ]
    }
   ],
   "source": [
    "print(d.target.shape)"
   ]
  },
  {
   "cell_type": "code",
   "execution_count": 12,
   "metadata": {},
   "outputs": [],
   "source": [
    "# Splitting the dataset into the Training set and Test set\n",
    "x_train, x_test, y_train, y_test = train_test_split(d.data, d.target, test_size = 0.3, random_state=0)\n",
    "# Splitting the Train set further into development and train set\n",
    "x_train, x_dev, y_train, y_dev = train_test_split(x_train, y_train, test_size = 0.2, random_state=0)"
   ]
  },
  {
   "cell_type": "code",
   "execution_count": 13,
   "metadata": {},
   "outputs": [
    {
     "name": "stdout",
     "output_type": "stream",
     "text": [
      "(1005, 64)\n",
      "(540, 64)\n",
      "(252, 64)\n"
     ]
    }
   ],
   "source": [
    "print(x_train.shape)\n",
    "print(x_test.shape)\n",
    "print(x_dev.shape)"
   ]
  },
  {
   "cell_type": "code",
   "execution_count": 14,
   "metadata": {},
   "outputs": [
    {
     "name": "stdout",
     "output_type": "stream",
     "text": [
      "(1005,)\n",
      "(540,)\n",
      "(252,)\n"
     ]
    }
   ],
   "source": [
    "print(y_train.shape)\n",
    "print(y_test.shape)\n",
    "print(y_dev.shape)"
   ]
  },
  {
   "cell_type": "code",
   "execution_count": 15,
   "metadata": {},
   "outputs": [
    {
     "name": "stdout",
     "output_type": "stream",
     "text": [
      "Training: i=1.00, accuracy=100.00%\n",
      "......................................\n",
      "Test: i=1.00, accuracy=97.41%\n",
      "......................................\n",
      "......................................\n",
      "Development: i=1.00, accuracy=98.02%\n",
      "......................................\n",
      "Training: i=2.00, accuracy=100.00%\n",
      "......................................\n",
      "Test: i=2.00, accuracy=97.41%\n",
      "......................................\n",
      "......................................\n",
      "Development: i=2.00, accuracy=98.02%\n",
      "......................................\n",
      "Training: i=3.00, accuracy=100.00%\n",
      "......................................\n",
      "Test: i=3.00, accuracy=97.41%\n",
      "......................................\n",
      "......................................\n",
      "Development: i=3.00, accuracy=98.02%\n",
      "......................................\n",
      "Training: i=4.00, accuracy=100.00%\n",
      "......................................\n",
      "Test: i=4.00, accuracy=97.41%\n",
      "......................................\n",
      "......................................\n",
      "Development: i=4.00, accuracy=98.02%\n",
      "......................................\n",
      "Training: i=5.00, accuracy=100.00%\n",
      "......................................\n",
      "Test: i=5.00, accuracy=97.41%\n",
      "......................................\n",
      "......................................\n",
      "Development: i=5.00, accuracy=98.02%\n",
      "......................................\n",
      "Training: i=6.00, accuracy=100.00%\n",
      "......................................\n",
      "Test: i=6.00, accuracy=97.41%\n",
      "......................................\n",
      "......................................\n",
      "Development: i=6.00, accuracy=98.02%\n",
      "......................................\n",
      "Training: i=7.00, accuracy=100.00%\n",
      "......................................\n",
      "Test: i=7.00, accuracy=97.41%\n",
      "......................................\n",
      "......................................\n",
      "Development: i=7.00, accuracy=98.02%\n",
      "......................................\n"
     ]
    }
   ],
   "source": [
    "c = range(1,8,1)\n",
    "accuracy_train = []\n",
    "accuracy_test = []\n",
    "accuracy_dev = []\n",
    "mod = {}\n",
    "\n",
    "for i in c:\n",
    "    mod[i] = SVC(C=i, kernel='linear')\n",
    "    mod[i].fit(x_train, y_train)   #Training phase\n",
    "    score = mod[i].score(x_train, y_train)\n",
    "    print(\"Training: i=%.2f, accuracy=%.2f%%\" % (i, score * 100))\n",
    "    accuracy_train.append(score)\n",
    "    sc = mod[i].score(x_test, y_test) #checking accuracy with test data\n",
    "    print(\"......................................\")\n",
    "    print(\"Test: i=%.2f, accuracy=%.2f%%\" % (i, sc * 100))\n",
    "    print(\"......................................\")\n",
    "    s = mod[i].score(x_dev, y_dev) #checking accuracy with development data\n",
    "    accuracy_test.append(sc)\n",
    "    print(\"......................................\")\n",
    "    print(\"Development: i=%.2f, accuracy=%.2f%%\" % (i, s * 100))\n",
    "    print(\"......................................\")\n",
    "    accuracy_dev.append(s)\n"
   ]
  },
  {
   "cell_type": "code",
   "execution_count": 17,
   "metadata": {},
   "outputs": [
    {
     "name": "stdout",
     "output_type": "stream",
     "text": [
      "Best C = 1, model accuracy on test data = 98.01587301587301\n"
     ]
    }
   ],
   "source": [
    "#Validation of a model on Development data\n",
    "index_of_bestc = np.argmax(accuracy_dev)\n",
    "best_c = c[index_of_bestc]\n",
    "test_score = mod[best_c].score(x_dev, y_dev)\n",
    "y_pred = mod[best_c].predict(x_dev) \n",
    "print(f\"Best C = {best_c}, model accuracy on test data = {test_score * 100}\")\n"
   ]
  },
  {
   "cell_type": "code",
   "execution_count": 23,
   "metadata": {},
   "outputs": [
    {
     "name": "stdout",
     "output_type": "stream",
     "text": [
      "Best C = 1, model accuracy on test data = 97.4074074074074\n"
     ]
    }
   ],
   "source": [
    "#Validation of a model on Test data\n",
    "index_of_bestc = np.argmax(accuracy_test)\n",
    "best_c = c[index_of_bestc]\n",
    "test_score = mod[best_c].score(x_test, y_test)\n",
    "y_pred = mod[best_c].predict(x_test) \n",
    "print(f\"Best C = {best_c}, model accuracy on test data = {test_score * 100}\")\n",
    "#Accuracy achieved lower on test data"
   ]
  },
  {
   "cell_type": "code",
   "execution_count": 18,
   "metadata": {},
   "outputs": [
    {
     "data": {
      "text/plain": [
       "array([[23,  0,  0,  0,  0,  0,  0,  0,  0,  0],\n",
       "       [ 0, 29,  0,  0,  0,  0,  0,  0,  1,  0],\n",
       "       [ 0,  0, 22,  0,  0,  0,  0,  0,  0,  0],\n",
       "       [ 0,  0,  0, 21,  0,  0,  0,  0,  0,  1],\n",
       "       [ 0,  0,  0,  0, 38,  0,  0,  0,  0,  0],\n",
       "       [ 0,  0,  0,  0,  0, 25,  0,  0,  0,  0],\n",
       "       [ 0,  0,  0,  0,  0,  0, 22,  0,  0,  0],\n",
       "       [ 0,  0,  0,  0,  0,  0,  0, 29,  0,  0],\n",
       "       [ 0,  2,  0,  0,  0,  0,  0,  0, 16,  0],\n",
       "       [ 0,  0,  0,  0,  0,  0,  0,  0,  1, 22]])"
      ]
     },
     "execution_count": 18,
     "metadata": {},
     "output_type": "execute_result"
    }
   ],
   "source": [
    "#Confusion Metrics in between Development data and Prediciton data\n",
    "metrics.confusion_matrix(y_dev, y_pred)"
   ]
  },
  {
   "cell_type": "code",
   "execution_count": 24,
   "metadata": {},
   "outputs": [
    {
     "data": {
      "text/plain": [
       "array([[45,  0,  0,  0,  0,  0,  0,  0,  0,  0],\n",
       "       [ 0, 51,  0,  0,  0,  1,  0,  0,  0,  0],\n",
       "       [ 0,  1, 52,  0,  0,  0,  0,  0,  0,  0],\n",
       "       [ 0,  0,  0, 53,  0,  0,  0,  0,  1,  0],\n",
       "       [ 0,  0,  0,  0, 48,  0,  0,  0,  0,  0],\n",
       "       [ 0,  0,  0,  0,  0, 56,  0,  0,  0,  1],\n",
       "       [ 0,  1,  0,  0,  0,  0, 59,  0,  0,  0],\n",
       "       [ 0,  0,  0,  0,  1,  0,  0, 52,  0,  0],\n",
       "       [ 0,  1,  1,  1,  0,  0,  0,  0, 57,  1],\n",
       "       [ 0,  1,  0,  1,  0,  1,  0,  0,  1, 53]])"
      ]
     },
     "execution_count": 24,
     "metadata": {},
     "output_type": "execute_result"
    }
   ],
   "source": [
    "#Confusion Metrics in between Test data and Prediciton data\n",
    "metrics.confusion_matrix(y_test, y_pred)"
   ]
  },
  {
   "cell_type": "code",
   "execution_count": 20,
   "metadata": {},
   "outputs": [
    {
     "name": "stdout",
     "output_type": "stream",
     "text": [
      "Accuracy of Model: 98.01587301587301\n"
     ]
    }
   ],
   "source": [
    "#Accuracy achieved on development data\n",
    "print(f\"Accuracy of Model: {accuracy_score(y_dev, y_pred)*100}\") "
   ]
  },
  {
   "cell_type": "code",
   "execution_count": 25,
   "metadata": {},
   "outputs": [
    {
     "name": "stdout",
     "output_type": "stream",
     "text": [
      "Accuracy of Model: 97.4074074074074\n"
     ]
    }
   ],
   "source": [
    "#Accuracy achieved on test data\n",
    "print(f\"Accuracy of Model: {accuracy_score(y_test, y_pred)*100}\")"
   ]
  },
  {
   "cell_type": "code",
   "execution_count": 22,
   "metadata": {},
   "outputs": [
    {
     "name": "stdout",
     "output_type": "stream",
     "text": [
      "              precision    recall  f1-score   support\n",
      "\n",
      "           0       1.00      1.00      1.00        23\n",
      "           1       0.94      0.97      0.95        30\n",
      "           2       1.00      1.00      1.00        22\n",
      "           3       1.00      0.95      0.98        22\n",
      "           4       1.00      1.00      1.00        38\n",
      "           5       1.00      1.00      1.00        25\n",
      "           6       1.00      1.00      1.00        22\n",
      "           7       1.00      1.00      1.00        29\n",
      "           8       0.89      0.89      0.89        18\n",
      "           9       0.96      0.96      0.96        23\n",
      "\n",
      "    accuracy                           0.98       252\n",
      "   macro avg       0.98      0.98      0.98       252\n",
      "weighted avg       0.98      0.98      0.98       252\n",
      "\n"
     ]
    }
   ],
   "source": [
    "#Classification report in between Development Data and Predicted data\n",
    "print(metrics.classification_report(y_dev, y_pred))"
   ]
  },
  {
   "cell_type": "code",
   "execution_count": 26,
   "metadata": {},
   "outputs": [
    {
     "name": "stdout",
     "output_type": "stream",
     "text": [
      "              precision    recall  f1-score   support\n",
      "\n",
      "           0       1.00      1.00      1.00        45\n",
      "           1       0.93      0.98      0.95        52\n",
      "           2       0.98      0.98      0.98        53\n",
      "           3       0.96      0.98      0.97        54\n",
      "           4       0.98      1.00      0.99        48\n",
      "           5       0.97      0.98      0.97        57\n",
      "           6       1.00      0.98      0.99        60\n",
      "           7       1.00      0.98      0.99        53\n",
      "           8       0.97      0.93      0.95        61\n",
      "           9       0.96      0.93      0.95        57\n",
      "\n",
      "    accuracy                           0.97       540\n",
      "   macro avg       0.97      0.98      0.97       540\n",
      "weighted avg       0.97      0.97      0.97       540\n",
      "\n"
     ]
    }
   ],
   "source": [
    "#Classification report in between Test Data and Predicted data\n",
    "print(metrics.classification_report(y_test, y_pred))"
   ]
  },
  {
   "cell_type": "code",
   "execution_count": null,
   "metadata": {},
   "outputs": [],
   "source": []
  }
 ],
 "metadata": {
  "kernelspec": {
   "display_name": "Python 3",
   "language": "python",
   "name": "python3"
  },
  "language_info": {
   "codemirror_mode": {
    "name": "ipython",
    "version": 3
   },
   "file_extension": ".py",
   "mimetype": "text/x-python",
   "name": "python",
   "nbconvert_exporter": "python",
   "pygments_lexer": "ipython3",
   "version": "3.8.5"
  }
 },
 "nbformat": 4,
 "nbformat_minor": 4
}
