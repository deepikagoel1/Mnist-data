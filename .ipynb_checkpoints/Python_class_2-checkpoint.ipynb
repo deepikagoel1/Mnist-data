{
 "cells": [
  {
   "cell_type": "code",
   "execution_count": null,
   "metadata": {},
   "outputs": [],
   "source": [
    "def sum(a,b):\n",
    "    c = a + b\n",
    "    if c > 100:\n",
    "        print(\"sum is greater than One hundred and the sum is:\",c)\n",
    "    else:\n",
    "        print(\"sum is less than one hundred and the sum is:\",c)\n",
    "\n",
    "a = int(input(\"Enter first number\"))\n",
    "b = int(input(\"Enter second number\"))\n",
    "sum(a,b)"
   ]
  },
  {
   "cell_type": "code",
   "execution_count": null,
   "metadata": {},
   "outputs": [],
   "source": [
    "#print the quotient of a number when divided by 5, if the number is even, else print\"not found\" "
   ]
  },
  {
   "cell_type": "code",
   "execution_count": null,
   "metadata": {},
   "outputs": [],
   "source": [
    "div = int(input(\"Enter a number\"))\n",
    "def rem1(q):\n",
    "    q = div / 5\n",
    "    if q % 2 == 0:\n",
    "        print(\"Number is even\")\n",
    "    else:\n",
    "        print(\"Not found\")\n",
    "rem1(div)"
   ]
  },
  {
   "cell_type": "raw",
   "metadata": {},
   "source": []
  },
  {
   "cell_type": "code",
   "execution_count": null,
   "metadata": {},
   "outputs": [],
   "source": [
    "#write a program to input the salary and bonus for an employye, check if both are greater than 10000, 1000, print- :great job, else - something \n",
    "\n",
    "sal = int(input(\"Enter the salary\"))\n",
    "bon = int(input(\"Enter the bonus\"))\n",
    "\n",
    "def salary(sal, bon):\n",
    "    if sal > 10000 and bon > 1000:\n",
    "        print(\"great job\")\n",
    "    else:\n",
    "        print(\"not a good job\")\n",
    "salary(sal, bon)"
   ]
  },
  {
   "cell_type": "code",
   "execution_count": null,
   "metadata": {},
   "outputs": [],
   "source": [
    "k=1\n",
    "while(k<5):\n",
    "    num1 = int(input(\"Enter one number\"))\n",
    "    num2 = int(input(\"Enter other number\"))\n",
    "    sum=num1 + num2\n",
    "    if sum > 100:\n",
    "        print(\"Whooa!!!\")\n",
    "    else:\n",
    "        print(\"!!!!!!\")\n",
    "    k = k + 1\n",
    "    "
   ]
  },
  {
   "cell_type": "code",
   "execution_count": null,
   "metadata": {},
   "outputs": [],
   "source": [
    "k=1\n",
    "while(k<5):\n",
    "    num1 = int(input(\"Enter one number\"))\n",
    "    num2 = int(input(\"Enter other number\"))\n",
    "    sum=num1 + num2\n",
    "    if sum > 100:\n",
    "        print(\"Whooa!!!\")\n",
    "    else:\n",
    "        print(\"!!!!!!\")\n",
    "k = k + 1"
   ]
  },
  {
   "cell_type": "code",
   "execution_count": null,
   "metadata": {},
   "outputs": [],
   "source": [
    "lst = ['fuzz', 'buzz', 'ML', 'is']\n",
    "while lst:\n",
    "    print(lst.pop(-1))\n",
    "    print(lst)"
   ]
  },
  {
   "cell_type": "code",
   "execution_count": null,
   "metadata": {},
   "outputs": [],
   "source": [
    "##try looping over strings\n"
   ]
  }
 ],
 "metadata": {
  "kernelspec": {
   "display_name": "Python 3",
   "language": "python",
   "name": "python3"
  },
  "language_info": {
   "codemirror_mode": {
    "name": "ipython",
    "version": 3
   },
   "file_extension": ".py",
   "mimetype": "text/x-python",
   "name": "python",
   "nbconvert_exporter": "python",
   "pygments_lexer": "ipython3",
   "version": "3.8.5"
  }
 },
 "nbformat": 4,
 "nbformat_minor": 4
}
